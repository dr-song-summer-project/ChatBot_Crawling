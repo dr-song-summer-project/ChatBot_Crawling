{
  "nbformat": 4,
  "nbformat_minor": 0,
  "metadata": {
    "colab": {
      "name": "crawling",
      "provenance": [],
      "collapsed_sections": [],
      "authorship_tag": "ABX9TyOskcM9mIQP3ChdeMogz6az",
      "include_colab_link": true
    },
    "kernelspec": {
      "name": "python3",
      "display_name": "Python 3"
    },
    "language_info": {
      "name": "python"
    }
  },
  "cells": [
    {
      "cell_type": "markdown",
      "metadata": {
        "id": "view-in-github",
        "colab_type": "text"
      },
      "source": [
        "<a href=\"https://colab.research.google.com/github/dr-song-summer-project/ChatBot_Crawling/blob/main/crawling/crawling.ipynb\" target=\"_parent\"><img src=\"https://colab.research.google.com/assets/colab-badge.svg\" alt=\"Open In Colab\"/></a>"
      ]
    },
    {
      "cell_type": "code",
      "metadata": {
        "colab": {
          "base_uri": "https://localhost:8080/"
        },
        "id": "qql9a-yqSgeR",
        "outputId": "f208d0f0-c867-4e92-ac38-ba8ceec99797"
      },
      "source": [
        "!pip install bs4\n",
        "!pip install selenium\n",
        "!pip install openpyxl"
      ],
      "execution_count": null,
      "outputs": [
        {
          "output_type": "stream",
          "text": [
            "Requirement already satisfied: bs4 in /usr/local/lib/python3.7/dist-packages (0.0.1)\n",
            "Requirement already satisfied: beautifulsoup4 in /usr/local/lib/python3.7/dist-packages (from bs4) (4.6.3)\n",
            "Requirement already satisfied: selenium in /usr/local/lib/python3.7/dist-packages (3.141.0)\n",
            "Requirement already satisfied: urllib3 in /usr/local/lib/python3.7/dist-packages (from selenium) (1.24.3)\n",
            "Requirement already satisfied: openpyxl in /usr/local/lib/python3.7/dist-packages (2.5.9)\n",
            "Requirement already satisfied: et-xmlfile in /usr/local/lib/python3.7/dist-packages (from openpyxl) (1.1.0)\n",
            "Requirement already satisfied: jdcal in /usr/local/lib/python3.7/dist-packages (from openpyxl) (1.4.1)\n"
          ],
          "name": "stdout"
        }
      ]
    },
    {
      "cell_type": "code",
      "metadata": {
        "id": "MTo-SpZXR-0E"
      },
      "source": [
        "from selenium import webdriver\n",
        "from bs4 import BeautifulSoup\n",
        "from datetime import datetime, timedelta\n",
        "import time\n",
        "\n",
        "import openpyxl\n",
        "from openpyxl.styles import PatternFill, Color\n",
        "from openpyxl import Workbook\n",
        "from random import *"
      ],
      "execution_count": null,
      "outputs": []
    },
    {
      "cell_type": "code",
      "metadata": {
        "colab": {
          "base_uri": "https://localhost:8080/",
          "height": 448
        },
        "id": "sRya9IHxS0jC",
        "outputId": "9863a90d-8426-4453-a96d-fdf629c58b0b"
      },
      "source": [
        "class WebCrawling:\n",
        "\n",
        "  # WebDriverPath = 'C:/Users/Com/Desktop/project/geckodriver'\n",
        "  # UrlPath = 'https://www.hidoc.co.kr/integratesearch/searchhealthqnalist?query='\n",
        "  # mainUrl = 'https://www.hidoc.co.kr'\n",
        "\n",
        "  def __init__(self, WebDriverPath, UrlPath, mainUrl):\n",
        "    self.profile = webdriver.FirefoxProfile()\n",
        "    self.driver = webdriver.Firefox(firefox_profile=profile, executable_path=WebDriverPath)\n",
        "\n",
        "    self.UrlPath = UrlPath\n",
        "    self.mainUrl = mainUrl\n",
        "\n",
        "  def setDriver(self, path):\n",
        "    #Tor proxy setting\n",
        "    self.profile = webdriver.FirefoxProfile()\n",
        "    self.profile.set_preference('general.useragent.override', 'Mozilla/5.0 (Windows NT 10.0; Win64; x64; rv:65.0) Gecko/20100101 Firefox/65.0')\n",
        "    self.profile.set_preference(\"network.proxy.type\", 1)\n",
        "    self.profile.set_preference(\"network.proxy.socks\", \"127.0.0.1\")\n",
        "    self.profile.set_preference(\"network.proxy.socks_port\", 9050)\n",
        "\n",
        "\n",
        "  def get_keyword(self, text): \n",
        "    #keword 반환\n",
        "    return text.replace(\" \", \"%20\")\n",
        "\n",
        "    \n",
        "  def transferWord(self, text):\n",
        "      text = text.replace('href=', '')\n",
        "      text = text.replace('\"', '')\n",
        "      text = text.replace('><span', '')\n",
        "      \n",
        "      return text\n",
        "\n",
        "  def mainUrl(self, url):\n",
        "      main = 'https://www.hidoc.co.kr'\n",
        "      return main + url\n",
        "\n",
        "  def Crawling(self, savingPath, FileName, keyword, index):\n",
        "    page_index = index\n",
        "\n",
        "    #저장 주소, 파일 이름\n",
        "    SavingFile = savingPath + FileName\n",
        "    \n",
        "    f = open(SavingFile, 'w')\n",
        "    while True:\n",
        "      #time.sleep(0.01, 1.0)  #Crawling 막아논 사이트 \n",
        "      driver.get(self.UrlPath + get_keyword(keyword)+'&page=' +str(page_index))\n",
        "      html = driver.page_source\n",
        "      soup = BeautifulSoup(html, 'html.parser')\n",
        "\n",
        "      tags = soup.find_all('a', class_=\"link_qna\")\n",
        "      for tag in tags:\n",
        "          url = str(tag).split(' ')[2]\n",
        "          url = transferWord(url)\n",
        "          url = mainUrl(url)\n",
        "          page_url.append(url)\n",
        "          UrlCount +=1\n",
        "          f.write(url + \"\\n\")\n",
        "      \n",
        "      post_number = soup.find('h2', class_='tit')\n",
        "      num = str(post_number).split('>')[4]\n",
        "      num = num.replace('</strong', '')\n",
        "      num = num.replace(',', '')\n",
        "      \n",
        "      if UrlCount == int(num):\n",
        "          break\n",
        "      else:\n",
        "          page_index +=1      \n",
        "\n",
        "\n"
      ],
      "execution_count": null,
      "outputs": [
        {
          "output_type": "error",
          "ename": "WebDriverException",
          "evalue": "ignored",
          "traceback": [
            "\u001b[0;31m---------------------------------------------------------------------------\u001b[0m",
            "\u001b[0;31mPermissionError\u001b[0m                           Traceback (most recent call last)",
            "\u001b[0;32m/usr/local/lib/python3.7/dist-packages/selenium/webdriver/common/service.py\u001b[0m in \u001b[0;36mstart\u001b[0;34m(self)\u001b[0m\n\u001b[1;32m     75\u001b[0m                                             \u001b[0mstderr\u001b[0m\u001b[0;34m=\u001b[0m\u001b[0mself\u001b[0m\u001b[0;34m.\u001b[0m\u001b[0mlog_file\u001b[0m\u001b[0;34m,\u001b[0m\u001b[0;34m\u001b[0m\u001b[0;34m\u001b[0m\u001b[0m\n\u001b[0;32m---> 76\u001b[0;31m                                             stdin=PIPE)\n\u001b[0m\u001b[1;32m     77\u001b[0m         \u001b[0;32mexcept\u001b[0m \u001b[0mTypeError\u001b[0m\u001b[0;34m:\u001b[0m\u001b[0;34m\u001b[0m\u001b[0;34m\u001b[0m\u001b[0m\n",
            "\u001b[0;32m/usr/lib/python3.7/subprocess.py\u001b[0m in \u001b[0;36m__init__\u001b[0;34m(self, args, bufsize, executable, stdin, stdout, stderr, preexec_fn, close_fds, shell, cwd, env, universal_newlines, startupinfo, creationflags, restore_signals, start_new_session, pass_fds, encoding, errors, text)\u001b[0m\n\u001b[1;32m    799\u001b[0m                                 \u001b[0merrread\u001b[0m\u001b[0;34m,\u001b[0m \u001b[0merrwrite\u001b[0m\u001b[0;34m,\u001b[0m\u001b[0;34m\u001b[0m\u001b[0;34m\u001b[0m\u001b[0m\n\u001b[0;32m--> 800\u001b[0;31m                                 restore_signals, start_new_session)\n\u001b[0m\u001b[1;32m    801\u001b[0m         \u001b[0;32mexcept\u001b[0m\u001b[0;34m:\u001b[0m\u001b[0;34m\u001b[0m\u001b[0;34m\u001b[0m\u001b[0m\n",
            "\u001b[0;32m/usr/lib/python3.7/subprocess.py\u001b[0m in \u001b[0;36m_execute_child\u001b[0;34m(self, args, executable, preexec_fn, close_fds, pass_fds, cwd, env, startupinfo, creationflags, shell, p2cread, p2cwrite, c2pread, c2pwrite, errread, errwrite, restore_signals, start_new_session)\u001b[0m\n\u001b[1;32m   1550\u001b[0m                             \u001b[0merr_msg\u001b[0m \u001b[0;34m+=\u001b[0m \u001b[0;34m': '\u001b[0m \u001b[0;34m+\u001b[0m \u001b[0mrepr\u001b[0m\u001b[0;34m(\u001b[0m\u001b[0merr_filename\u001b[0m\u001b[0;34m)\u001b[0m\u001b[0;34m\u001b[0m\u001b[0;34m\u001b[0m\u001b[0m\n\u001b[0;32m-> 1551\u001b[0;31m                     \u001b[0;32mraise\u001b[0m \u001b[0mchild_exception_type\u001b[0m\u001b[0;34m(\u001b[0m\u001b[0merrno_num\u001b[0m\u001b[0;34m,\u001b[0m \u001b[0merr_msg\u001b[0m\u001b[0;34m,\u001b[0m \u001b[0merr_filename\u001b[0m\u001b[0;34m)\u001b[0m\u001b[0;34m\u001b[0m\u001b[0;34m\u001b[0m\u001b[0m\n\u001b[0m\u001b[1;32m   1552\u001b[0m                 \u001b[0;32mraise\u001b[0m \u001b[0mchild_exception_type\u001b[0m\u001b[0;34m(\u001b[0m\u001b[0merr_msg\u001b[0m\u001b[0;34m)\u001b[0m\u001b[0;34m\u001b[0m\u001b[0;34m\u001b[0m\u001b[0m\n",
            "\u001b[0;31mPermissionError\u001b[0m: [Errno 13] Permission denied: '/content/geckodriver.exe'",
            "\nDuring handling of the above exception, another exception occurred:\n",
            "\u001b[0;31mWebDriverException\u001b[0m                        Traceback (most recent call last)",
            "\u001b[0;32m<ipython-input-46-37960e357679>\u001b[0m in \u001b[0;36m<module>\u001b[0;34m()\u001b[0m\n\u001b[1;32m     20\u001b[0m \u001b[0;31m# path = \"C:/project/geckodriver\"\u001b[0m\u001b[0;34m\u001b[0m\u001b[0;34m\u001b[0m\u001b[0;34m\u001b[0m\u001b[0m\n\u001b[1;32m     21\u001b[0m \u001b[0;34m\u001b[0m\u001b[0m\n\u001b[0;32m---> 22\u001b[0;31m \u001b[0mdriver\u001b[0m \u001b[0;34m=\u001b[0m \u001b[0mwebdriver\u001b[0m\u001b[0;34m.\u001b[0m\u001b[0mFirefox\u001b[0m\u001b[0;34m(\u001b[0m\u001b[0mfirefox_profile\u001b[0m\u001b[0;34m=\u001b[0m\u001b[0mprofile\u001b[0m\u001b[0;34m,\u001b[0m \u001b[0mexecutable_path\u001b[0m\u001b[0;34m=\u001b[0m\u001b[0mpath\u001b[0m\u001b[0;34m)\u001b[0m\u001b[0;34m\u001b[0m\u001b[0;34m\u001b[0m\u001b[0m\n\u001b[0m\u001b[1;32m     23\u001b[0m \u001b[0;34m\u001b[0m\u001b[0m\n\u001b[1;32m     24\u001b[0m \u001b[0;31m# 네이버 지식인 크롤링\u001b[0m\u001b[0;34m\u001b[0m\u001b[0;34m\u001b[0m\u001b[0;34m\u001b[0m\u001b[0m\n",
            "\u001b[0;32m/usr/local/lib/python3.7/dist-packages/selenium/webdriver/firefox/webdriver.py\u001b[0m in \u001b[0;36m__init__\u001b[0;34m(self, firefox_profile, firefox_binary, timeout, capabilities, proxy, executable_path, options, service_log_path, firefox_options, service_args, desired_capabilities, log_path, keep_alive)\u001b[0m\n\u001b[1;32m    162\u001b[0m                 \u001b[0mservice_args\u001b[0m\u001b[0;34m=\u001b[0m\u001b[0mservice_args\u001b[0m\u001b[0;34m,\u001b[0m\u001b[0;34m\u001b[0m\u001b[0;34m\u001b[0m\u001b[0m\n\u001b[1;32m    163\u001b[0m                 log_path=service_log_path)\n\u001b[0;32m--> 164\u001b[0;31m             \u001b[0mself\u001b[0m\u001b[0;34m.\u001b[0m\u001b[0mservice\u001b[0m\u001b[0;34m.\u001b[0m\u001b[0mstart\u001b[0m\u001b[0;34m(\u001b[0m\u001b[0;34m)\u001b[0m\u001b[0;34m\u001b[0m\u001b[0;34m\u001b[0m\u001b[0m\n\u001b[0m\u001b[1;32m    165\u001b[0m \u001b[0;34m\u001b[0m\u001b[0m\n\u001b[1;32m    166\u001b[0m             \u001b[0mcapabilities\u001b[0m\u001b[0;34m.\u001b[0m\u001b[0mupdate\u001b[0m\u001b[0;34m(\u001b[0m\u001b[0moptions\u001b[0m\u001b[0;34m.\u001b[0m\u001b[0mto_capabilities\u001b[0m\u001b[0;34m(\u001b[0m\u001b[0;34m)\u001b[0m\u001b[0;34m)\u001b[0m\u001b[0;34m\u001b[0m\u001b[0;34m\u001b[0m\u001b[0m\n",
            "\u001b[0;32m/usr/local/lib/python3.7/dist-packages/selenium/webdriver/common/service.py\u001b[0m in \u001b[0;36mstart\u001b[0;34m(self)\u001b[0m\n\u001b[1;32m     86\u001b[0m                 raise WebDriverException(\n\u001b[1;32m     87\u001b[0m                     \"'%s' executable may have wrong permissions. %s\" % (\n\u001b[0;32m---> 88\u001b[0;31m                         os.path.basename(self.path), self.start_error_message)\n\u001b[0m\u001b[1;32m     89\u001b[0m                 )\n\u001b[1;32m     90\u001b[0m             \u001b[0;32melse\u001b[0m\u001b[0;34m:\u001b[0m\u001b[0;34m\u001b[0m\u001b[0;34m\u001b[0m\u001b[0m\n",
            "\u001b[0;31mWebDriverException\u001b[0m: Message: 'geckodriver.exe' executable may have wrong permissions. \n"
          ]
        }
      ]
    },
    {
      "cell_type": "code",
      "metadata": {
        "id": "mXJdFRHykN6M"
      },
      "source": [
        "WebDriverPath = 'C:/Users/Com/Desktop/project/geckodriver'\n",
        "UrlPath = 'https://www.hidoc.co.kr/integratesearch/searchhealthqnalist?query='\n",
        "mainUrl = 'https://www.hidoc.co.kr'\n",
        "\n",
        "savingPath = 'C:/result/'\n",
        "FileName = 'url_list'\n",
        "keyword = '피임약'\n",
        "\n",
        "wCrawling = WebCrawling(WebDriverPath, UrlPath, mainUrl)\n",
        "wCrawling.Crawling(savingPath, FileName, '피임약', 1)"
      ],
      "execution_count": null,
      "outputs": []
    },
    {
      "cell_type": "code",
      "metadata": {
        "id": "Z3r8ASXuR43F"
      },
      "source": [
        "from tqdm.notebook import tqdm\n",
        "\n",
        "\n",
        "driver = webdriver.Firefox(firefox_profile=profile, executable_path=path)\n",
        "\n",
        "filename = 'C:/result/' + keyword.replace(' ', '.') + \"_crawling_result.xlsx\"\n",
        "\n",
        "wb = Workbook()\n",
        "sheet = wb.active\n",
        "sheet.append(['제목', '질문', '답변'])\n",
        "\n",
        "\n",
        "for j in range(1, 4):\n",
        "    sheet.cell(row=1, column=j).fill = PatternFill(start_color='808080', end_color='808080', fill_type='solid')\n",
        "\n",
        "new_url = list(dict.fromkeys(page_url))    \n",
        "\n",
        "for i in tqdm(new_url):\n",
        "    driver.get(i)\n",
        "    \n",
        "    try:\n",
        "#         title = driver.find_element_by_class_name('title').text\n",
        "        title = driver.find_element_by_class_name('tit').text\n",
        "        question_txt = driver.find_element_by_class_name('desc').text\n",
        "        answer_txt = driver.find_element_by_class_name('cont').text\n",
        "\n",
        "    except:\n",
        "        print(\"error URL : \",i)\n",
        "        question_txt = \"\"\n",
        "        \n",
        "    answer_txt = answer_txt.split('*')[0]\n",
        "        \n",
        "    sheet.append([title, question_txt,answer_txt])\n",
        "\n",
        "  \n",
        "    wb.save(filename)\n"
      ],
      "execution_count": null,
      "outputs": []
    }
  ]
}